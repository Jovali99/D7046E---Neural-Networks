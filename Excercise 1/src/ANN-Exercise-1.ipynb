{
 "cells": [
  {
   "cell_type": "markdown",
   "metadata": {},
   "source": [
    "# Neural Networks and Learning Machines\n",
    "## ANN 1 - Training, validation, and testing\n",
    "This exercise is split into three different parts. First, you will test some simple machine learning models that aren't neural networks. Secondly, you will implement and train a 2 layer neural network using a high level library, [pytorch](https://pytorch.org/). Finally, you will create the neural network, the forward pass and the backward pass from scratch using numpy. The data which will be used is a subset of the [MNIST](http://yann.lecun.com/exdb/mnist/) dataset which contains handwritten numbers from 0-9. Examples can be seen in the image below.\n",
    "\n",
    "![MNIST digits](https://upload.wikimedia.org/wikipedia/commons/2/27/MnistExamples.png)\n",
    "\n",
    "## Literature\n",
    "Before starting with the implementation you should familiarize yourself with relevant sections from the [course book](https://www.deeplearningbook.org/). This will help you understand the theory behind neural networks and what mathematical formulas are important for the task. The lectures has touched on most of these concepts too. Below will be a list of recommended sections from the book. If you feel you are already familiarize with the contents of the section, feel free to skip it.\n",
    "\n",
    "* Chapter 5 - Machine learning basics\n",
    "    - Section 5.1 - Explains the basics of what we mean by learning and what supervised learning is (including linear regression).\n",
    "    - Section 5.2 - Talks about generalization, the generalization gap and under/overfitting.\n",
    "    - Section 5.3 - Validation and validation set.\n",
    "* Chapter 6 - Deep feedforward networks\n",
    "    - Section 6.0 - Discusses what do we mean by feedfoward networks and terminology such as input layer, output layer and hidden layer.\n",
    "    - Section 6.2 - Discusses what gradient based learning is and what cost functions are.\n",
    "    - Section 6.5 - Explains back propagation. Important here are the formulas 6.49 - 6.52.\n",
    "* Chapter 8 - Optimization for Training Deep Models\n",
    "    - Section 8.1.3 - Presents differences between batch (deterministic) and mini-batch (stochastic) algorithms.\n",
    "    \n",
    "## Examination\n",
    "\n",
    "### Part 1\n",
    "\n",
    "* Try 4 machine learning models that are not Neural Networks using scikit-learn: decision tree, linear regression, logistic regression, and Support-Vector Machine (SVM)\n",
    "* Write a short description of the main difference between linear and logistic regression in the provided cell.\n",
    "\n",
    "### Part 2\n",
    "* Implementation of a 2 layer NN (very similar to ex0)\n",
    "* Training of this 2 layer NN (once again, very similar to ex0)\n",
    "* Validation of the network during training (requires splitting the training set)\n",
    "    - Save the model which performs the best on the validation data\n",
    "* Graph the training loss vs validation loss\n",
    "* At least 85% accuracy on the test data (remember to load the best performing model before performing the accuracy test)\n",
    "\n",
    "### Part 3\n",
    "* Implementation of a 2 layer NN using numpy\n",
    "* Training and validation of the 2 layer NN\n",
    "    - Once again, save the best performing model (can be done in memory)\n",
    "* Graph the training vs validation loss\n",
    "* At least 50% accuracy on the validation data (can be hard to get high accuracy)"
   ]
  },
  {
   "cell_type": "markdown",
   "metadata": {},
   "source": [
    "# MNIST dataset preparation\n",
    "We will start by importing the packages we'll be using as well as downloading and preparing the data such that it is usable for our purposes."
   ]
  },
  {
   "cell_type": "code",
   "execution_count": 1,
   "metadata": {},
   "outputs": [],
   "source": [
    "import torch\n",
    "import torch.nn as nn\n",
    "import torch.nn.functional as F\n",
    "import torch.optim as optim\n",
    "from torch.utils.data import DataLoader\n",
    "from torch.utils.data import random_split\n",
    "from torchvision import datasets, transforms\n",
    "\n",
    "from sklearn.linear_model import LinearRegression, SGDClassifier\n",
    "from sklearn.tree import DecisionTreeClassifier\n",
    "from sklearn.metrics import accuracy_score\n",
    "from sklearn.preprocessing import StandardScaler\n",
    "\n",
    "import random\n",
    "import matplotlib.pyplot as plt\n",
    "import numpy\n",
    "import copy"
   ]
  },
  {
   "cell_type": "code",
   "execution_count": 80,
   "metadata": {},
   "outputs": [
    {
     "data": {
      "text/plain": "<Figure size 640x480 with 1 Axes>",
      "image/png": "[encoded data removed]"
     },
     "metadata": {},
     "output_type": "display_data"
    }
   ],
   "source": [
    "# Define the mini-batch size\n",
    "batch_size = 1000\n",
    "\n",
    "# Download the dataset and create the dataloaders\n",
    "mnist_train = datasets.MNIST(\"./\", train=True, download=True, transform=transforms.ToTensor())\n",
    "train_loader = DataLoader(mnist_train, batch_size=batch_size, shuffle=False)\n",
    "## IN PART 2 YOU MAY WANT TO ADD A WAY TO SPLIT THE DATASET HERE##\n",
    "\n",
    "\n",
    "\n",
    "mnist_test = datasets.MNIST(\"./\", train=False, download=True, transform=transforms.ToTensor())\n",
    "test_loader = DataLoader(mnist_test, batch_size=batch_size, shuffle=False)\n",
    "\n",
    "to_onehot = nn.Embedding(10, 10)\n",
    "to_onehot.weight.data = torch.eye(10)\n",
    "\n",
    "def plot_digit(data):\n",
    "    data = data.view(28, 28)\n",
    "    plt.imshow(data, cmap=\"gray\")\n",
    "    plt.show()\n",
    "\n",
    "images, labels = next(iter(train_loader))\n",
    "plot_digit(images[0])"
   ]
  },
  {
   "cell_type": "markdown",
   "metadata": {},
   "source": [
    "# Part 1\n",
    "\n",
    "## Test some non-neural network machine learning models\n",
    "\n",
    "Neural Networks are just a small part of the large field of machine learning. Many machine learning models exist that does not fall under the umbrella of neural networks and it's good to be familiar with some of them.\n",
    "In this part of the exercise you will test decision tree, linear regression, logistic regression, and Support-Vector Machine (SVM) models using their implementations from the scikit-learn package.\n",
    "\n",
    "To start with let's have quick walk-through of the methods we'll be using:\n",
    "\n",
    "**Decision trees** work by inserting a data point into the root of the tree and then by comparing different features of the data point it is sent to the next step in the tree until it reaches a leaf node which contains the final prediction for the data point. There are many different ways to create a tree to fit some training set but training procedures often follow a divide-and-conquer strategy:\n",
    "* Find an attribute that splits the different classes or labels of the training data as neatly as possible and create a node that splits using that attribute.\n",
    "* Repeat the procedure to create the subnodes using the training data that subnode would encounter.\n",
    "* This is repeated for each until either a performance requirement or a certain depth is reached at which point each leaf node is assigned as a predictor for the highest liklihood label to reach that node.\n",
    "\n",
    "An example of a short decision tree can be found in the image below.\n",
    "![Decision Tree](https://miro.medium.com/max/720/1*YTg8AE3nAsbfn-elHuJNIA.jpeg)\n",
    "\n",
    "**Linear regression, logistic regression, and SVM** are all versions of linear models. Linear models work by, for training data in some hyper-space (a space with N dimensions) learning a hyperplane (a plane with N-1 dimensions) that fits the data best. In the case of binary classification the goal is to have as many samples of each class on separate sides of the plane. The calculation of a linear model can be described by the vector equation below, where *x* is the data point and **w** and b are learned parameters, and f() is an activation function.\n",
    "\n",
    "\\begin{equation*}\n",
    "y = f(\\mathbf{w}\\mathit{x} + b)\n",
    "\\end{equation*}\n",
    "\n",
    "As you can see this is identical to the equation of an artificial neuron, and when extended to handle multiple outputs (by using  matrices for **w** and b instead of vectors) become equivalent to a single-layer ANN.\n",
    "However, even though prediction, in the simplest case, is equivalent to a single-layer neural network there are many different linear models that vary in different ways. Common things to change is activation function, learning method, optimization criteria, or the addition of kernel functions to bring complex datasets into higher dimensional spaces where it's easier to linearly separate. So, while it may seem pointless to use a linear model when they seem equivalent to a single-layer neural network, some models come with advantages that neural network have difficulty replicating. A common advantage is that while neural networks often needs to be trained using backpropagation, linear models are well-studied with many different optimization short-cuts and techniques0.\n",
    "\n",
    "As you will see when running the models below, these models all get impressive results on the dataset, despite their apparent simplicity. To test these models we're using their implementation from the Python library [Scikit-Learn](https://scikit-learn.org/stable/index.html) which contains implementations of a host of different machine learning models and methods. While knowing a Scikit-Learn is not mandatory for this Exercise, it's well worth having a look at for anyone interested in non-neural network machine learning (though it does contain some neural networks as well).\n",
    "\n",
    "**Exercise:** Look through the code below and run it to get the results of the different machine learning models (You might get some warnings, but don't worry about those). Then read up on linear and logistic regression and write a short description of their difference in the cell below"
   ]
  },
  {
   "cell_type": "code",
   "execution_count": 81,
   "metadata": {},
   "outputs": [
    {
     "ename": "KeyboardInterrupt",
     "evalue": "",
     "output_type": "error",
     "traceback": [
      "\u001B[1;31m---------------------------------------------------------------------------\u001B[0m",
      "\u001B[1;31mKeyboardInterrupt\u001B[0m                         Traceback (most recent call last)",
      "Cell \u001B[1;32mIn[81], line 45\u001B[0m\n\u001B[0;32m     43\u001B[0m onehot_output \u001B[38;5;241m=\u001B[39m classifier \u001B[38;5;241m==\u001B[39m \u001B[38;5;124m\"\u001B[39m\u001B[38;5;124mLinear Regression\u001B[39m\u001B[38;5;124m\"\u001B[39m\n\u001B[0;32m     44\u001B[0m y \u001B[38;5;241m=\u001B[39m y_10_train \u001B[38;5;28;01mif\u001B[39;00m onehot_output \u001B[38;5;28;01melse\u001B[39;00m y_train\n\u001B[1;32m---> 45\u001B[0m result \u001B[38;5;241m=\u001B[39m \u001B[43mtrain_and_test\u001B[49m\u001B[43m(\u001B[49m\u001B[43mclassifiers\u001B[49m\u001B[43m[\u001B[49m\u001B[43mclassifier\u001B[49m\u001B[43m]\u001B[49m\u001B[43m,\u001B[49m\u001B[43m \u001B[49m\u001B[43mX_train\u001B[49m\u001B[43m,\u001B[49m\u001B[43m \u001B[49m\u001B[43my\u001B[49m\u001B[43m,\u001B[49m\u001B[43m \u001B[49m\u001B[43mX_test\u001B[49m\u001B[43m,\u001B[49m\u001B[43m \u001B[49m\u001B[43my_test\u001B[49m\u001B[43m,\u001B[49m\u001B[43m \u001B[49m\u001B[43monehot_output\u001B[49m\u001B[38;5;241;43m=\u001B[39;49m\u001B[43monehot_output\u001B[49m\u001B[43m)\u001B[49m\n\u001B[0;32m     46\u001B[0m \u001B[38;5;28mprint\u001B[39m(\u001B[38;5;124m\"\u001B[39m\u001B[38;5;124mClassifier \u001B[39m\u001B[38;5;132;01m{}\u001B[39;00m\u001B[38;5;124m got \u001B[39m\u001B[38;5;132;01m{}\u001B[39;00m\u001B[38;5;132;01m% a\u001B[39;00m\u001B[38;5;124mccuracy on the test set\u001B[39m\u001B[38;5;124m\"\u001B[39m\u001B[38;5;241m.\u001B[39mformat(classifier, result\u001B[38;5;241m*\u001B[39m\u001B[38;5;241m100\u001B[39m))\n",
      "Cell \u001B[1;32mIn[81], line 21\u001B[0m, in \u001B[0;36mtrain_and_test\u001B[1;34m(classifier, train_data, train_labels, test_data, test_labels, onehot_output)\u001B[0m\n\u001B[0;32m     19\u001B[0m \u001B[38;5;28;01mdef\u001B[39;00m \u001B[38;5;21mtrain_and_test\u001B[39m(classifier, train_data, train_labels, test_data, test_labels, onehot_output\u001B[38;5;241m=\u001B[39m\u001B[38;5;28;01mFalse\u001B[39;00m):\n\u001B[0;32m     20\u001B[0m     \u001B[38;5;66;03m# Trains the classifier witht he given data and labels\u001B[39;00m\n\u001B[1;32m---> 21\u001B[0m     \u001B[43mclassifier\u001B[49m\u001B[38;5;241;43m.\u001B[39;49m\u001B[43mfit\u001B[49m\u001B[43m(\u001B[49m\u001B[43mtrain_data\u001B[49m\u001B[43m,\u001B[49m\u001B[43m \u001B[49m\u001B[43mtrain_labels\u001B[49m\u001B[43m)\u001B[49m\n\u001B[0;32m     22\u001B[0m     \u001B[38;5;66;03m# Uses the trained classifier to predict the classes of the test set\u001B[39;00m\n\u001B[0;32m     23\u001B[0m     predictions \u001B[38;5;241m=\u001B[39m classifier\u001B[38;5;241m.\u001B[39mpredict(test_data)\n",
      "File \u001B[1;32m~\\Documents\\Skol dokument\\D7046E\\venv\\lib\\site-packages\\sklearn\\tree\\_classes.py:889\u001B[0m, in \u001B[0;36mDecisionTreeClassifier.fit\u001B[1;34m(self, X, y, sample_weight, check_input)\u001B[0m\n\u001B[0;32m    859\u001B[0m \u001B[38;5;28;01mdef\u001B[39;00m \u001B[38;5;21mfit\u001B[39m(\u001B[38;5;28mself\u001B[39m, X, y, sample_weight\u001B[38;5;241m=\u001B[39m\u001B[38;5;28;01mNone\u001B[39;00m, check_input\u001B[38;5;241m=\u001B[39m\u001B[38;5;28;01mTrue\u001B[39;00m):\n\u001B[0;32m    860\u001B[0m \u001B[38;5;250m    \u001B[39m\u001B[38;5;124;03m\"\"\"Build a decision tree classifier from the training set (X, y).\u001B[39;00m\n\u001B[0;32m    861\u001B[0m \n\u001B[0;32m    862\u001B[0m \u001B[38;5;124;03m    Parameters\u001B[39;00m\n\u001B[1;32m   (...)\u001B[0m\n\u001B[0;32m    886\u001B[0m \u001B[38;5;124;03m        Fitted estimator.\u001B[39;00m\n\u001B[0;32m    887\u001B[0m \u001B[38;5;124;03m    \"\"\"\u001B[39;00m\n\u001B[1;32m--> 889\u001B[0m     \u001B[38;5;28;43msuper\u001B[39;49m\u001B[43m(\u001B[49m\u001B[43m)\u001B[49m\u001B[38;5;241;43m.\u001B[39;49m\u001B[43mfit\u001B[49m\u001B[43m(\u001B[49m\n\u001B[0;32m    890\u001B[0m \u001B[43m        \u001B[49m\u001B[43mX\u001B[49m\u001B[43m,\u001B[49m\n\u001B[0;32m    891\u001B[0m \u001B[43m        \u001B[49m\u001B[43my\u001B[49m\u001B[43m,\u001B[49m\n\u001B[0;32m    892\u001B[0m \u001B[43m        \u001B[49m\u001B[43msample_weight\u001B[49m\u001B[38;5;241;43m=\u001B[39;49m\u001B[43msample_weight\u001B[49m\u001B[43m,\u001B[49m\n\u001B[0;32m    893\u001B[0m \u001B[43m        \u001B[49m\u001B[43mcheck_input\u001B[49m\u001B[38;5;241;43m=\u001B[39;49m\u001B[43mcheck_input\u001B[49m\u001B[43m,\u001B[49m\n\u001B[0;32m    894\u001B[0m \u001B[43m    \u001B[49m\u001B[43m)\u001B[49m\n\u001B[0;32m    895\u001B[0m     \u001B[38;5;28;01mreturn\u001B[39;00m \u001B[38;5;28mself\u001B[39m\n",
      "File \u001B[1;32m~\\Documents\\Skol dokument\\D7046E\\venv\\lib\\site-packages\\sklearn\\tree\\_classes.py:379\u001B[0m, in \u001B[0;36mBaseDecisionTree.fit\u001B[1;34m(self, X, y, sample_weight, check_input)\u001B[0m\n\u001B[0;32m    368\u001B[0m \u001B[38;5;28;01melse\u001B[39;00m:\n\u001B[0;32m    369\u001B[0m     builder \u001B[38;5;241m=\u001B[39m BestFirstTreeBuilder(\n\u001B[0;32m    370\u001B[0m         splitter,\n\u001B[0;32m    371\u001B[0m         min_samples_split,\n\u001B[1;32m   (...)\u001B[0m\n\u001B[0;32m    376\u001B[0m         \u001B[38;5;28mself\u001B[39m\u001B[38;5;241m.\u001B[39mmin_impurity_decrease,\n\u001B[0;32m    377\u001B[0m     )\n\u001B[1;32m--> 379\u001B[0m \u001B[43mbuilder\u001B[49m\u001B[38;5;241;43m.\u001B[39;49m\u001B[43mbuild\u001B[49m\u001B[43m(\u001B[49m\u001B[38;5;28;43mself\u001B[39;49m\u001B[38;5;241;43m.\u001B[39;49m\u001B[43mtree_\u001B[49m\u001B[43m,\u001B[49m\u001B[43m \u001B[49m\u001B[43mX\u001B[49m\u001B[43m,\u001B[49m\u001B[43m \u001B[49m\u001B[43my\u001B[49m\u001B[43m,\u001B[49m\u001B[43m \u001B[49m\u001B[43msample_weight\u001B[49m\u001B[43m)\u001B[49m\n\u001B[0;32m    381\u001B[0m \u001B[38;5;28;01mif\u001B[39;00m \u001B[38;5;28mself\u001B[39m\u001B[38;5;241m.\u001B[39mn_outputs_ \u001B[38;5;241m==\u001B[39m \u001B[38;5;241m1\u001B[39m \u001B[38;5;129;01mand\u001B[39;00m is_classifier(\u001B[38;5;28mself\u001B[39m):\n\u001B[0;32m    382\u001B[0m     \u001B[38;5;28mself\u001B[39m\u001B[38;5;241m.\u001B[39mn_classes_ \u001B[38;5;241m=\u001B[39m \u001B[38;5;28mself\u001B[39m\u001B[38;5;241m.\u001B[39mn_classes_[\u001B[38;5;241m0\u001B[39m]\n",
      "\u001B[1;31mKeyboardInterrupt\u001B[0m: "
     ]
    }
   ],
   "source": [
    "# Since Scikit-Learn uses Numpy we need to transform all our data to numpy arrays, \n",
    "# which can be done by Pytorch's .numpy() function\n",
    "X_train = mnist_train.data.view(-1, 784).numpy()\n",
    "y_train = mnist_train.targets.numpy()\n",
    "y_10_train = to_onehot(mnist_train.targets).detach().numpy()\n",
    "\n",
    "X_test = mnist_test.data.view(-1, 784).numpy()\n",
    "y_test = mnist_test.targets.numpy()\n",
    "\n",
    "# Many machine learning models in Sciki-Learn work better if the data has been normalized to mean 0 and Std. Dev. 1\n",
    "# which can be done with Scikit-Learn's StandardScaler \n",
    "scaler = StandardScaler().fit(X_train)\n",
    "\n",
    "X_train_scaled = scaler.transform(X_train)\n",
    "X_test_scaled = scaler.transform(X_test)\n",
    "\n",
    "\n",
    "# We make a function for handling the training and testing of a given Scikit-Learn classifier\n",
    "def train_and_test(classifier, train_data, train_labels, test_data, test_labels, onehot_output=False):\n",
    "    # Trains the classifier witht he given data and labels\n",
    "    classifier.fit(train_data, train_labels)\n",
    "    # Uses the trained classifier to predict the classes of the test set\n",
    "    predictions = classifier.predict(test_data)\n",
    "    # Some models output with predictions for each class rather than one index for the predicted class\n",
    "    if onehot_output:\n",
    "        predictions = numpy.argmax(predictions, axis=1)\n",
    "    # By comparing the actual labels to the predictions we can calculate the accuracy of the classifier\n",
    "    return accuracy_score(test_labels, predictions)\n",
    "\n",
    "\n",
    "# We create the classifiers to test\n",
    "classifiers = {\n",
    "    \"Decision Tree\": DecisionTreeClassifier(),\n",
    "    \"Linear Regression\": LinearRegression(),\n",
    "    # We use the SGDClassifier (which trains a linear model using SGD) to implement Logistic Regression and SVM\n",
    "    \"Logistic Regression\": SGDClassifier(loss='log_loss', max_iter=300),\n",
    "    \"SVM\": SGDClassifier(loss='hinge', max_iter=100)\n",
    "}\n",
    "\n",
    "\n",
    "# We train and test each classifier\n",
    "for classifier in classifiers:\n",
    "    onehot_output = classifier == \"Linear Regression\"\n",
    "    y = y_10_train if onehot_output else y_train\n",
    "    result = train_and_test(classifiers[classifier], X_train, y, X_test, y_test, onehot_output=onehot_output)\n",
    "    print(\"Classifier {} got {}% accuracy on the test set\".format(classifier, result*100))"
   ]
  },
  {
   "cell_type": "markdown",
   "metadata": {},
   "source": [
    "#### Exercise: Explain in three or four sentences the main difference between linear- and logistic regression.\n",
    "The main differences between logistic regression & linear regression is that logistical regression provides a binary outcome, either a 0 or 1\n",
    "whilst linear regression provides a linear equation to find the best fit line. Linear regression predicts continuous values that describe a linear relationship\n",
    "between independent variables.\n"
   ]
  },
  {
   "cell_type": "markdown",
   "metadata": {},
   "source": [
    "# Part 2\n",
    "\n",
    "## Implement a classifier using pytorch\n",
    "\n",
    "Given the code below, your knowledge from the literature, lectures, and exercise 0. Implement a 2 layer neural network using pytorch as well as the procedure for training, validation, and testing.\n",
    "\n",
    "The training should include both training and validation. As such you need to split the training data into a training set (for which the error is backpropagated to update the parameters) and a validation set (which will not be used to directly update the model parameters, and instead be used to keep track of how good the model is at unseen data). The weights of the model which performs the best on the validation det should be stored and then be used for the final check on the test set. Validation sets are often created by taking a fraction of the training data (often, but not always, around 20%) at random. In Pytorch you might want to use [random_split](https://pytorch.org/docs/stable/data.html#torch.utils.data.random_split)() for this. Using random split would require you to edit the way the Dataloaders are created. If you edit the data collection provided, make sure you retain the old DataLoaders as they are used in part 1.\n",
    "\n",
    "You are free to choose any optimizer and loss function. Just note that some loss functions require the labels to be 1-hot encoded. As you will not use convolutional layers for this exercise (later in the course), the input needs to be changed to a 1d tensor (see [view](https://pytorch.org/docs/stable/tensors.html?highlight=view#torch.Tensor.view)()).\n",
    "\n",
    "**Exercise:** Implement a 2-layer NN as well as the procedures for training, validation, and testing. You should use the network from the epoch with best validation score on the test set which should achive at least 85% accuracy.\n",
    "\n",
    "***Remember*** to run all your code before grading so the TA doesn't have to wait around for long training runs. Plot the training and validation losses for each epoch.\n",
    "\n",
    "*Hint:* Validation and Testing loops are very similar to training except they don't use backpropagation. Additionally testing should only be performed once, while validation should be performed continually to make sure training is proceeding as intended and to save the parameters of the best epoch.\n",
    "\n",
    "*Hint:* Storing the best model is a bit more difficult than just assigning it to a variable as this only means you have to variables pointing to the same network, not one containing the best one and one containing the current. Instead you ned to make a copy of the network which can be achived with [deepcopy](https://docs.python.org/3/library/copy.html)(). Other ways to store models include saving them as a file which can be done with [torch.save](https://pytorch.org/tutorials/beginner/saving_loading_models.html)().\n",
    "\n",
    "*Hint:* Everytime you train a network random initialization and random mini-batches means that you get networks with different performance. Sometimes just running the training again can be enough to get a better result. However, if you do this too many times you run the risk of training (overfitting) on the test set."
   ]
  },
  {
   "cell_type": "code",
   "execution_count": null,
   "metadata": {},
   "outputs": [],
   "source": [
    "# Define the mini-batch size\n",
    "batch_size = 1000\n",
    "\n",
    "# Download the dataset and create the dataloaders\n",
    "mnist_train = datasets.MNIST(\"./\", train=True, download=True, transform=transforms.ToTensor())\n",
    "\n",
    "data_split = random_split(mnist_train, [0.8, 0.2], generator=torch.Generator().manual_seed(16))\n",
    "train_loader = DataLoader(data_split[0], batch_size=batch_size, shuffle=False)\n",
    "\n",
    "validation_loader = DataLoader(data_split[1], batch_size=batch_size, shuffle=False)\n",
    "\n",
    "mnist_test = datasets.MNIST(\"./\", train=False, download=True, transform=transforms.ToTensor())\n",
    "test_loader = DataLoader(mnist_test, batch_size=batch_size, shuffle=False)"
   ]
  },
  {
   "cell_type": "code",
   "execution_count": null,
   "outputs": [],
   "source": [
    "#-----------------------Network Setup-----------------------\n",
    "network = nn.Sequential(\n",
    "    nn.Linear(784, 100), # First layer of the network takes the entire image and reduces it to 100 dimensions\n",
    "    nn.ReLU(),\n",
    "    nn.Linear(100, 10) # The second layer takes those 100 dimensions and reduces them into estimated values for each digit\n",
    ")\n",
    "optimizer = optim.Adam(network.parameters(), lr=0.01)\n",
    "loss_function = nn.MSELoss()\n",
    "# An Embedding layer used for turning int into one-hot (0 -> [1,0,0,0,0,0,0,0,0,0], 5 -> [0,0,0,0,0,1,0,0,0,0])\n",
    "to_onehot = nn.Embedding(10, 10)\n",
    "to_onehot.weight.data = torch.eye(10)\n"
   ],
   "metadata": {
    "collapsed": false
   }
  },
  {
   "cell_type": "code",
   "execution_count": null,
   "outputs": [],
   "source": [
    "#-----------------------Training-----------------------\n",
    "epochs = 20\n",
    "\n",
    "best_loss = 1\n",
    "worst_loss = 0\n",
    "training_loss = []\n",
    "validation_loss = []\n",
    "\n",
    "def validation(epoch, best_loss, worst_loss):\n",
    "    for x ,(images, labels) in enumerate(validation_loader):\n",
    "        labels = to_onehot(labels)\n",
    "        images = images.view(-1,784)\n",
    "        prediction = network(images)\n",
    "        val_loss = loss_function(prediction, labels)\n",
    "\n",
    "        if best_loss > val_loss:\n",
    "            best_loss = val_loss\n",
    "            torch.save(network, \"best_network.pt\")\n",
    "\n",
    "        # if worst_loss < val_loss:         #Worst loss after one epoch\n",
    "        #     worst_loss = val_loss\n",
    "        #     torch.save(network, \"worst_network.pt\")\n",
    "    validation_loss.append(val_loss.item())\n",
    "\n",
    "    return  best_loss, worst_loss\n",
    "\n",
    "\n",
    "for epoch in range(epochs):\n",
    "    for batch_nr, (images, labels) in enumerate(train_loader):\n",
    "        # Extract the labels and turn them into one-hot representation (note: not all loss functions needs this)\n",
    "        labels = to_onehot(labels)\n",
    "        # Reshape the images to a single vector (28*28 = 784)\n",
    "        images = images.view(-1,784)\n",
    "\n",
    "        prediction = network(images)\n",
    "        loss = loss_function(prediction, labels)\n",
    "        loss.backward()\n",
    "        # Update the parameters along their gradients\n",
    "        optimizer.step()\n",
    "        # Clear stored gradient values\n",
    "        optimizer.zero_grad()\n",
    "\n",
    "        if worst_loss < loss:           #Worst loss, completely untrained\n",
    "            worst_loss = loss\n",
    "            torch.save(network, \"worst_network.pt\")\n",
    "\n",
    "        #Print the epoch, batch, and loss\n",
    "        print( '\\rEpoch {} [{}/{}] - Loss: {} | Best validation loss: {} - worst {}'\n",
    "               .format( epoch+1, batch_nr+1, len(train_loader), loss, best_loss, worst_loss), end='')\n",
    "    best_loss, worst_loss  = validation(epoch, best_loss, worst_loss)\n",
    "    training_loss.append(loss.item())"
   ],
   "metadata": {
    "collapsed": false
   }
  },
  {
   "cell_type": "markdown",
   "source": [
    "### Plot Validation loss vs Training loss"
   ],
   "metadata": {
    "collapsed": false
   }
  },
  {
   "cell_type": "code",
   "execution_count": null,
   "outputs": [],
   "source": [
    "def plotLoss(list1, list2, label1, label2):\n",
    "    plt.figure(figsize=(10,5))\n",
    "    plt.ylim(0.01, 0.05)\n",
    "    plt.xlim(0, 20)\n",
    "    plt.title(\"Training and Validation Loss\")\n",
    "    plt.plot(list1,label = label1)\n",
    "    plt.plot(list2,label = label2)\n",
    "    plt.xlabel(\"Epoch\")\n",
    "    plt.ylabel(\"Loss\")\n",
    "    plt.legend()\n",
    "    plt.show()\n",
    "plotLoss(validation_loss,training_loss, \"validation\", \"training\")"
   ],
   "metadata": {
    "collapsed": false
   }
  },
  {
   "cell_type": "code",
   "execution_count": null,
   "outputs": [],
   "source": [
    "#-----------------------Prediction-----------------------\n",
    "def predictionAccuracy(diffNetwork):\n",
    "    correct = 0\n",
    "    for batch_nr, (images, labels) in enumerate(test_loader):\n",
    "        images = images.view(-1,784)\n",
    "        prediction = diffNetwork(images)\n",
    "        for index in range(len(prediction)):\n",
    "            guess = torch.argmax(prediction[index], dim=-1)\n",
    "            if guess.item() == labels[index].item():\n",
    "                correct += 1\n",
    "    print(\"Accuracy: \", correct/len(mnist_test))\n",
    "\n",
    "print(\"Best Network\")\n",
    "predictionAccuracy(diffNetwork=torch.load(\"best_network.pt\"))\n",
    "print(\"Worst Network\")\n",
    "predictionAccuracy(diffNetwork=torch.load(\"worst_network.pt\"))"
   ],
   "metadata": {
    "collapsed": false
   }
  },
  {
   "cell_type": "markdown",
   "metadata": {},
   "source": [
    "# Part 3\n",
    "\n",
    "## Implement a classifier using numpy\n",
    "Implement a similar 2 layer neural network, without using a high-level machine learning library like pytorch. It should function the same as the network in Part 2. The code block below contains code to change the training data from the DataLoader format to the \"raw\" numpy format. It also contains some comments to guide you in the right direction. **Please note that this solution should not \"scale\" hence it is 100% OK to just have two weight matrices variables.**\n",
    "\n",
    "### The foward pass\n",
    "This is easy. Recall that each differnt layer is calculated by the formula: \n",
    "$$ y = g(\\mathbf{W}*\\mathbf{x} + b) $$\n",
    "where $W$ is the weight matrix, $x$ the input, $b$ the bias and $g$ the non-linearity. For this exercise you are allowed to put $b = 0$ for simplicity when calculating the backwards pass.\n",
    "\n",
    "### Backward pass\n",
    "This can be tricky. In canvas there is lecture material which explains back propogation and all the maths behind it. It should be under *Modules > Artificial Neural Networks (ANN) - Part 1 > Lecture: Backpropagation derivation.mp4*. This, the supplementary material for the lecture, together with the course book should be enough material for you to be able to implement the training algorithm.\n",
    "\n",
    "### Weight update\n",
    "Once you have calculated the gradient of both weight matrixes, this is updated by:\n",
    "$$ W_i = W_i - \\gamma \\dfrac{dL}{dW_i} $$\n",
    "where $\\gamma$ is the step size, or learning rate.\n",
    "\n",
    "**Exercise:** Implement a 2-layer NN and training, valdiation, and testing like in Part 2, but this time implementing everything using Numpy, which requires you to define your own forward pass, backward pass, and parameter updates. Then plot the training and validation scores and print the test accuracy which should be at least 40%.\n",
    "\n",
    "***Remember*** to run all your code before grading so the TA doesn't have to wait around for long training runs."
   ]
  },
  {
   "cell_type": "code",
   "execution_count": 33,
   "outputs": [],
   "source": [
    "# Define the mini-batch size\n",
    "batch_size = 1000\n",
    "\n",
    "# Download the dataset and create the dataloaders\n",
    "mnist_train = datasets.MNIST(\"./\", train=True, download=True, transform=transforms.ToTensor())\n",
    "\n",
    "data_split = random_split(mnist_train, [0.8, 0.2], generator=torch.Generator().manual_seed(16))\n",
    "train_loader = DataLoader(data_split[0], batch_size=batch_size, shuffle=False)\n",
    "\n",
    "validation_loader = DataLoader(data_split[1], batch_size=batch_size, shuffle=False)\n",
    "\n",
    "mnist_test = datasets.MNIST(\"./\", train=False, download=True, transform=transforms.ToTensor())\n",
    "test_loader = DataLoader(mnist_test, batch_size=batch_size, shuffle=False)"
   ],
   "metadata": {
    "collapsed": false
   }
  },
  {
   "cell_type": "code",
   "execution_count": 40,
   "metadata": {},
   "outputs": [
    {
     "name": "stdout",
     "output_type": "stream",
     "text": [
      "Epoch 10 [48/48] - Loss: 0.12283125443811624 | Best validation loss: 0.00019229434930180628 - worst 8802.0996878116111"
     ]
    }
   ],
   "source": [
    "import numpy as np\n",
    "import matplotlib.pyplot as plt\n",
    "import sys\n",
    "\n",
    "epochs = 10  # Set the number of epochs to train for\n",
    "D_in = 784   # Input size, images are 28x28 = 784 element vectors\n",
    "D_out = 10   # Output size, 10 digit classes\n",
    "H1 = 100     # Hidden layer size\n",
    "gamma = 1e-5 # Learning rate\n",
    "\n",
    "# Define network with one hidden layer, random initial weights\n",
    "w1 = np.random.randn(D_in, H1)\n",
    "w2 = np.random.randn(H1, D_out)\n",
    "best_loss = 1234\n",
    "worst_loss = 0\n",
    "training_loss = []\n",
    "validation_loss = []\n",
    "batch_nr = 0\n",
    "\n",
    "def relu(input):\n",
    "    return numpy.maximum(0,input)\n",
    "\n",
    "def relu_delta(input):\n",
    "    return np.greater(input, 0.).astype(np.float32)\n",
    "\n",
    "def MSE_delta(y_pred, y_target):\n",
    "    return 2*(y_pred-y_target)\n",
    "\n",
    "def updateWeight(wUpd1, wUpd2, gamma, w1, w2):\n",
    "    return (w1 - gamma * wUpd1), (w2 - gamma * wUpd2)\n",
    "\n",
    "def gradientDescent(h1, x, loss_Delta, weight2):\n",
    "    backprop = loss_Delta\n",
    "    weightUpdate2 = h1.T.dot(backprop)\n",
    "\n",
    "    backprop = backprop.dot(weight2.T)\n",
    "    weightUpdate1 = x.T.dot(backprop)\n",
    "    #backprop.copy()\n",
    "    #backprop[h1 < 0] = 0\n",
    "    return weightUpdate1, weightUpdate2\n",
    "\n",
    "    # Validate the model\n",
    "def validate(best_loss, worst_loss):\n",
    "    for inputs, labels in validation_loader:\n",
    "        inputs = inputs.numpy()\n",
    "        labels = labels.numpy()\n",
    "        for i in range(batch_size):\n",
    "            # iterate through the mini-batch and perform forward pass and backward pass\n",
    "            x = inputs[i].reshape((1, D_in))                #len(inputs) = 1000, tar 1 bild=24*24=784 element\n",
    "            y = np.eye(10)[labels[i]]    # 1-hot encoding\n",
    "            # Forward pass\n",
    "            h1 = relu(x.dot(w1))                #Hidden Layer 1\n",
    "            yhat = h1.dot(w2)                   #Output Layer 2\n",
    "            # Compute loss function, squared error\n",
    "            val_loss = np.square(yhat - y).mean()\n",
    "\n",
    "\n",
    "            if best_loss > val_loss:\n",
    "                best_loss = val_loss\n",
    "    validation_loss.append(val_loss.item())\n",
    "    return  best_loss, worst_loss\n",
    "\n",
    "# Training iterations\n",
    "# Train for a number of epochs\n",
    "for epoch in range(epochs):\n",
    "    # Training by looping over training set\n",
    "    batch_nr = 0\n",
    "    for inputs, labels in train_loader:\n",
    "        inputs = inputs.numpy()\n",
    "        labels = labels.numpy()\n",
    "\n",
    "        for i in range(batch_size):\n",
    "            # iterate through the mini-batch and perform forward pass and backward pass\n",
    "            x = inputs[i].reshape((1, D_in))                #len(inputs) = 1000, tar 1 bild=24*24=784 element\n",
    "            y = np.eye(10)[labels[i]]    # 1-hot encoding\n",
    "\n",
    "            # Forward pass\n",
    "            h1 = relu(x.dot(w1))               #Layer 1\n",
    "            yhat = h1.dot(w2)\n",
    "            # Compute loss function, squared error\n",
    "            loss = np.square(yhat - y).mean()\n",
    "            lossDelta = MSE_delta(yhat, y)\n",
    "\n",
    "            # Backpropagation\n",
    "            # Compute gradients of square-error loss with respect to w1 and w2 using backpropagation\n",
    "            weightUpdate1, weightUpdate2 = gradientDescent(h1, x, lossDelta, w2)\n",
    "\n",
    "            # Update weights (stochastic gradient descent)\n",
    "            w1, w2 = updateWeight(weightUpdate1, weightUpdate2, gamma, w1, w2)\n",
    "            if worst_loss < loss:           #Worst loss, completely untrained\n",
    "                worst_loss = loss\n",
    "        batch_nr += 1\n",
    "\n",
    "\n",
    "        #Print the epoch, batch, and loss\n",
    "        print( '\\rEpoch {} [{}/{}] - Loss: {} | Best validation loss: {} - worst {}'\n",
    "               .format( epoch+1, batch_nr, len(train_loader), loss, best_loss, worst_loss), end='')\n",
    "        best_loss, worst_loss  = validate(best_loss, worst_loss)\n",
    "        training_loss.append(loss.item())\n",
    "\n",
    "\n",
    "# Calculate accuracy on one test batch100"
   ]
  },
  {
   "cell_type": "code",
   "execution_count": 38,
   "outputs": [
    {
     "data": {
      "text/plain": "<Figure size 1000x500 with 1 Axes>",
      "image/png": "[encoded data removed]"
     },
     "metadata": {},
     "output_type": "display_data"
    }
   ],
   "source": [
    "def plotLoss(list1, list2, label1, label2):\n",
    "    plt.figure(figsize=(10,5))\n",
    "    plt.ylim(0,200)\n",
    "    plt.xlim(0, 100)\n",
    "    plt.title(\"Training and Validation Loss\")\n",
    "    plt.plot(list1,label = label1)\n",
    "    plt.plot(list2,label = label2)\n",
    "    plt.xlabel(\"Batches\")\n",
    "    plt.ylabel(\"Loss\")\n",
    "    plt.legend()\n",
    "    plt.show()\n",
    "plotLoss(validation_loss,training_loss, \"validation\", \"training\")"
   ],
   "metadata": {
    "collapsed": false
   }
  },
  {
   "cell_type": "code",
   "execution_count": 39,
   "outputs": [
    {
     "name": "stdout",
     "output_type": "stream",
     "text": [
      "Accuracy:  0.6363\n"
     ]
    }
   ],
   "source": [
    "#-----------------------Prediction-----------------------\n",
    "total = 0\n",
    "correct = 0\n",
    "def predictionAccuracy():\n",
    "    correct = 0\n",
    "    for inputs, labels in test_loader:\n",
    "        inputs = inputs.numpy()\n",
    "        labels = labels.numpy()\n",
    "\n",
    "        for i in range(batch_size):\n",
    "            # iterate through the mini-batch and perform forward pass and backward pass\n",
    "            x = inputs[i].reshape((1, D_in))                #len(inputs) = 1000, tar 1 bild=24*24=784 element\n",
    "            y = np.eye(10)[labels[i]]    # 1-hot encoding\n",
    "            # Forward pass\n",
    "            h1 = relu(x.dot(w1))               #Layer 1\n",
    "            yhat = h1.dot(w2)\n",
    "\n",
    "            if np.where(yhat[0]==max(yhat[0])) == np.where(y==1):\n",
    "                correct += 1\n",
    "\n",
    "    print(\"Accuracy: \", correct/len(mnist_test))\n",
    "\n",
    "predictionAccuracy()\n"
   ],
   "metadata": {
    "collapsed": false
   }
  },
  {
   "cell_type": "markdown",
   "metadata": {},
   "source": [
    "# Optional task\n",
    "You have now implemented a 2 layer neural network from scratch. Use this new gained knowledge to create an implementation where we can create and train any sized network. This means that we should be able to specify the structure of the network and then train it using back propagation."
   ]
  },
  {
   "cell_type": "code",
   "execution_count": 153,
   "metadata": {},
   "outputs": [
    {
     "name": "stdout",
     "output_type": "stream",
     "text": [
      "(10, 1)\n",
      "(1, 10)\n",
      "[[46]]\n"
     ]
    }
   ],
   "source": [
    "#HANDLEDAR KODEN\n",
    "h = x.dot(w1)\n",
    "h_relu = np.maximum(h, 0)\n",
    "yhat = h_relu.dot(w2)\n",
    "loss = np.square(np.subtract(y, yhat[0])).mean()\n",
    "lossDelta = 2*(yhat-y)\n",
    "gradw2 = h_relu.T.dot(lossDelta)\n",
    "\n",
    "grad_h_relu = lossDelta.dot(w2.T)\n",
    "grad_h = grad_h_relu.copy()\n",
    "grad_h[h < 0] = 0\n",
    "\n",
    "gradw1 = x.T.dot(grad_h)\n",
    "\n",
    "w1, w2 = updateWeight(gradw1, gradw2, gamma, w1, w2)"
   ]
  }
 ],
 "metadata": {
  "kernelspec": {
   "display_name": "Python 3",
   "language": "python",
   "name": "python3"
  },
  "language_info": {
   "codemirror_mode": {
    "name": "ipython",
    "version": 3
   },
   "file_extension": ".py",
   "mimetype": "text/x-python",
   "name": "python",
   "nbconvert_exporter": "python",
   "pygments_lexer": "ipython3",
   "version": "3.7.5"
  }
 },
 "nbformat": 4,
 "nbformat_minor": 2
}
